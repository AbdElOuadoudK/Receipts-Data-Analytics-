{
 "cells": [
  {
   "cell_type": "code",
   "execution_count": 1,
   "id": "ff0d783a-76aa-49ba-ab85-0f2d61c37c0a",
   "metadata": {},
   "outputs": [],
   "source": [
    "import pandas\n",
    "from json import loads\n",
    "from tqdm import tqdm\n",
    "from utilities import *"
   ]
  },
  {
   "cell_type": "code",
   "execution_count": 2,
   "id": "6f3f68c8-42e8-4e14-ba6f-bfd67bb64aaa",
   "metadata": {},
   "outputs": [],
   "source": [
    "train_data = pandas.read_parquet(\"invoices-and-receipts_ocr/train-invoices-and-receipts_ocr_v1.parquet\")\n",
    "#valid_data = pandas.read_parquet(\"invoices-and-receipts_ocr/valid-invoices-and-receipts_ocr_v1.parquet\")\n",
    "#test_data = pandas.read_parquet(\"invoices-and-receipts_ocr/test-invoices-and-receipts_ocr_v1.parquet\")"
   ]
  },
  {
   "cell_type": "code",
   "execution_count": 3,
   "id": "2a2d28a0-991f-4ee9-a18e-cf1c0521fdce",
   "metadata": {
    "scrolled": true
   },
   "outputs": [
    {
     "data": {
      "text/plain": [
       "id                      int32\n",
       "parsed_data    string[python]\n",
       "dtype: object"
      ]
     },
     "execution_count": 3,
     "metadata": {},
     "output_type": "execute_result"
    }
   ],
   "source": [
    "train_data['parsed_data'] = train_data['parsed_data'].astype('string')\n",
    "train_data['raw_data'] = train_data['raw_data'].astype('string')\n",
    "train_data['id'] = train_data['id'].astype('int32')\n",
    "\n",
    "train_data = train_data.drop(['image', \"raw_data\"], axis=1)\n",
    "\n",
    "train_data.dtypes"
   ]
  },
  {
   "cell_type": "raw",
   "id": "63035fe6-705a-49f2-a406-d415408290f0",
   "metadata": {
    "collapsed": true,
    "jupyter": {
     "outputs_hidden": true,
     "source_hidden": true
    },
    "scrolled": true
   },
   "source": [
    "all_structures_indexes = []\n",
    "\n",
    "# Iterate through each row to compare the structures\n",
    "for idx1, row1 in tqdm(train_data.iterrows(), total=len(train_data), desc=\"Processing Rows\", leave=True):\n",
    "    dict_1 = parse_input(reformat_json(row1.iloc[2]))\n",
    "    unique = True  # Flag to track if the structure is unique\n",
    "    \n",
    "    for idx2, row2 in train_data.iterrows():\n",
    "        if idx2 <= idx1:  # Skip comparison with itself and previous rows\n",
    "            continue\n",
    "        \n",
    "        dict_2 = parse_input(reformat_json(row2.iloc[2]))\n",
    "        \n",
    "        # Compare the structures of dict_1 and dict_2\n",
    "        if not compare_items(dict_1, dict_2):\n",
    "            all_structures_indexes.append(idx1)\n",
    "            unique = False\n",
    "            break\n",
    "    \n",
    "    # If no differences were found, we continue (no addition to the list)\n",
    "    if unique:\n",
    "        continue\n",
    "\n",
    "print(all_structures_indexes)\n"
   ]
  },
  {
   "cell_type": "raw",
   "id": "9459804f-9dde-4b3d-93f0-be748f0a8237",
   "metadata": {
    "jupyter": {
     "source_hidden": true
    }
   },
   "source": [
    "all_structures_indexes = []\n",
    "seen_structures = set()\n",
    "dict_list = []\n",
    "\n",
    "for idx1, row1 in tqdm(train_data.iterrows(), total=len(train_data), desc=\"Processing Rows\", leave=True):\n",
    "    if idx1 != 0 :\n",
    "        dict_1 = get_dict_from(row1.iloc[0])\n",
    "        \n",
    "        for idx2, row2 in train_data.iterrows():\n",
    "            if idx1 < idx2 :\n",
    "                dict_2 = get_dict_from(row2.iloc[0])\n",
    "                \n",
    "                if not compare_items(dict_1, dict_2) :\n",
    "                    for dict_ in dict_list:\n",
    "                        if compare_items(dict_1, dict_):\n",
    "                            break\n",
    "                    else:\n",
    "                        dict_list.append(idx1)\n",
    "                            \n",
    "\n",
    "\n",
    "    \n",
    "    signature_1 = generate_signature(dict_1)\n",
    "    \n",
    "    if signature_1 not in seen_structures:\n",
    "        all_structures_indexes.append(idx1)\n",
    "        seen_structures.add(signature_1)\n",
    "\n",
    "print(all_structures_indexes)\n"
   ]
  },
  {
   "cell_type": "code",
   "execution_count": 13,
   "id": "c113d7be-0de4-4c8e-97c4-6fe44b8582aa",
   "metadata": {},
   "outputs": [
    {
     "name": "stderr",
     "output_type": "stream",
     "text": [
      "Processing Rows: 100%|█████████████████████████████████| 2043/2043 [00:03<00:00, 576.66it/s]\n"
     ]
    }
   ],
   "source": [
    "all_dict_records = [get_dict_from(train_data.iloc[0].iloc[1])]\n",
    "\n",
    "for idx, row in tqdm(train_data.iterrows(), total=len(train_data), desc=\"Processing Rows\", leave=True):\n",
    "    dict_ = get_dict_from(row.iloc[1])\n",
    "    for record_ in all_dict_records:\n",
    "        if compare_items(dict_, record_):\n",
    "            break\n",
    "    else:\n",
    "        all_dict_records.append(dict_)"
   ]
  },
  {
   "cell_type": "code",
   "execution_count": 14,
   "id": "b8c235b6-a018-414d-96c7-6b86c7330b76",
   "metadata": {},
   "outputs": [
    {
     "data": {
      "text/plain": [
       "24"
      ]
     },
     "execution_count": 14,
     "metadata": {},
     "output_type": "execute_result"
    }
   ],
   "source": [
    "len(all_dict_records)"
   ]
  },
  {
   "cell_type": "code",
   "execution_count": 10,
   "id": "59cf4d67-6985-4361-a73a-1475eeffa63a",
   "metadata": {},
   "outputs": [
    {
     "data": {
      "text/html": [
       "<div>\n",
       "<style scoped>\n",
       "    .dataframe tbody tr th:only-of-type {\n",
       "        vertical-align: middle;\n",
       "    }\n",
       "\n",
       "    .dataframe tbody tr th {\n",
       "        vertical-align: top;\n",
       "    }\n",
       "\n",
       "    .dataframe thead th {\n",
       "        text-align: right;\n",
       "    }\n",
       "</style>\n",
       "<table border=\"1\" class=\"dataframe\">\n",
       "  <thead>\n",
       "    <tr style=\"text-align: right;\">\n",
       "      <th></th>\n",
       "      <th>id</th>\n",
       "      <th>parsed_data</th>\n",
       "      <th>raw_data</th>\n",
       "    </tr>\n",
       "  </thead>\n",
       "  <tbody>\n",
       "    <tr>\n",
       "      <th>0</th>\n",
       "      <td>0</td>\n",
       "      <td>{\"xml\": \"\", \"json\": \"{'header': {'invoice_no':...</td>\n",
       "      <td>{\"ocr_words\": \"['Invoice no: 40378170', 'Date ...</td>\n",
       "    </tr>\n",
       "    <tr>\n",
       "      <th>425</th>\n",
       "      <td>0</td>\n",
       "      <td>{\"xml\": \"&lt;s_receipt&gt;&lt;s_total&gt;&lt;/s_total&gt;&lt;s_tips...</td>\n",
       "      <td>{\"ocr_words\": \"['SAFEWAY', 'STORE MGR TOM MILA...</td>\n",
       "    </tr>\n",
       "    <tr>\n",
       "      <th>1</th>\n",
       "      <td>1</td>\n",
       "      <td>{\"xml\": \"\", \"json\": \"{'header': {'invoice_no':...</td>\n",
       "      <td>{\"ocr_words\": \"['Invoice no: 61356291', 'Date ...</td>\n",
       "    </tr>\n",
       "    <tr>\n",
       "      <th>426</th>\n",
       "      <td>1</td>\n",
       "      <td>{\"xml\": \"&lt;s_receipt&gt;&lt;s_total&gt;$89.09 $89.09&lt;/s_...</td>\n",
       "      <td>{\"ocr_words\": \"[\\\"Walmart'\\\", 'S', 'SUPERCENTE...</td>\n",
       "    </tr>\n",
       "    <tr>\n",
       "      <th>112</th>\n",
       "      <td>2</td>\n",
       "      <td>{\"xml\": \"\", \"json\": \"{'header': {'invoice_no':...</td>\n",
       "      <td>{\"ocr_words\": \"['Invoice no: 49565075', 'Date ...</td>\n",
       "    </tr>\n",
       "    <tr>\n",
       "      <th>...</th>\n",
       "      <td>...</td>\n",
       "      <td>...</td>\n",
       "      <td>...</td>\n",
       "    </tr>\n",
       "    <tr>\n",
       "      <th>1403</th>\n",
       "      <td>422</td>\n",
       "      <td>{\"xml\": \"&lt;s_receipt&gt;&lt;s_total&gt;2.10&lt;/s_total&gt;&lt;s_...</td>\n",
       "      <td>{\"ocr_words\": \"['Starbucks Coffee', 'Raleigh M...</td>\n",
       "    </tr>\n",
       "    <tr>\n",
       "      <th>1404</th>\n",
       "      <td>423</td>\n",
       "      <td>{\"xml\": \"&lt;s_receipt&gt;&lt;s_total&gt;61.33&lt;/s_total&gt;&lt;s...</td>\n",
       "      <td>{\"ocr_words\": \"['PORTUGAL WINE BAR &amp; GRILL', '...</td>\n",
       "    </tr>\n",
       "    <tr>\n",
       "      <th>361</th>\n",
       "      <td>423</td>\n",
       "      <td>{\"xml\": \"\", \"json\": \"{'header': {'invoice_no':...</td>\n",
       "      <td>{\"ocr_words\": \"['Invoice no: 66430808', 'Date ...</td>\n",
       "    </tr>\n",
       "    <tr>\n",
       "      <th>362</th>\n",
       "      <td>424</td>\n",
       "      <td>{\"xml\": \"\", \"json\": \"{'header': {'invoice_no':...</td>\n",
       "      <td>{\"ocr_words\": \"['Invoice no: 94914402', 'Date ...</td>\n",
       "    </tr>\n",
       "    <tr>\n",
       "      <th>1405</th>\n",
       "      <td>424</td>\n",
       "      <td>{\"xml\": \"&lt;s_receipt&gt;&lt;s_total&gt;\\u00a332.31 32.31...</td>\n",
       "      <td>{\"ocr_words\": \"['-', 'Brookwood House Hotel', ...</td>\n",
       "    </tr>\n",
       "  </tbody>\n",
       "</table>\n",
       "<p>850 rows × 3 columns</p>\n",
       "</div>"
      ],
      "text/plain": [
       "       id                                        parsed_data  \\\n",
       "0       0  {\"xml\": \"\", \"json\": \"{'header': {'invoice_no':...   \n",
       "425     0  {\"xml\": \"<s_receipt><s_total></s_total><s_tips...   \n",
       "1       1  {\"xml\": \"\", \"json\": \"{'header': {'invoice_no':...   \n",
       "426     1  {\"xml\": \"<s_receipt><s_total>$89.09 $89.09</s_...   \n",
       "112     2  {\"xml\": \"\", \"json\": \"{'header': {'invoice_no':...   \n",
       "...   ...                                                ...   \n",
       "1403  422  {\"xml\": \"<s_receipt><s_total>2.10</s_total><s_...   \n",
       "1404  423  {\"xml\": \"<s_receipt><s_total>61.33</s_total><s...   \n",
       "361   423  {\"xml\": \"\", \"json\": \"{'header': {'invoice_no':...   \n",
       "362   424  {\"xml\": \"\", \"json\": \"{'header': {'invoice_no':...   \n",
       "1405  424  {\"xml\": \"<s_receipt><s_total>\\u00a332.31 32.31...   \n",
       "\n",
       "                                               raw_data  \n",
       "0     {\"ocr_words\": \"['Invoice no: 40378170', 'Date ...  \n",
       "425   {\"ocr_words\": \"['SAFEWAY', 'STORE MGR TOM MILA...  \n",
       "1     {\"ocr_words\": \"['Invoice no: 61356291', 'Date ...  \n",
       "426   {\"ocr_words\": \"[\\\"Walmart'\\\", 'S', 'SUPERCENTE...  \n",
       "112   {\"ocr_words\": \"['Invoice no: 49565075', 'Date ...  \n",
       "...                                                 ...  \n",
       "1403  {\"ocr_words\": \"['Starbucks Coffee', 'Raleigh M...  \n",
       "1404  {\"ocr_words\": \"['PORTUGAL WINE BAR & GRILL', '...  \n",
       "361   {\"ocr_words\": \"['Invoice no: 66430808', 'Date ...  \n",
       "362   {\"ocr_words\": \"['Invoice no: 94914402', 'Date ...  \n",
       "1405  {\"ocr_words\": \"['-', 'Brookwood House Hotel', ...  \n",
       "\n",
       "[850 rows x 3 columns]"
      ]
     },
     "execution_count": 10,
     "metadata": {},
     "output_type": "execute_result"
    }
   ],
   "source": [
    "train_data[train_data['id'].duplicated(keep=False)].sort_values(by=['id'])"
   ]
  },
  {
   "cell_type": "code",
   "execution_count": 47,
   "id": "d0cc6b47-154b-4331-800c-8633633d4cbb",
   "metadata": {},
   "outputs": [
    {
     "data": {
      "text/html": [
       "<div>\n",
       "<style scoped>\n",
       "    .dataframe tbody tr th:only-of-type {\n",
       "        vertical-align: middle;\n",
       "    }\n",
       "\n",
       "    .dataframe tbody tr th {\n",
       "        vertical-align: top;\n",
       "    }\n",
       "\n",
       "    .dataframe thead th {\n",
       "        text-align: right;\n",
       "    }\n",
       "</style>\n",
       "<table border=\"1\" class=\"dataframe\">\n",
       "  <thead>\n",
       "    <tr style=\"text-align: right;\">\n",
       "      <th></th>\n",
       "      <th>id</th>\n",
       "      <th>parsed_data</th>\n",
       "    </tr>\n",
       "  </thead>\n",
       "  <tbody>\n",
       "    <tr>\n",
       "      <th>425</th>\n",
       "      <td>0</td>\n",
       "      <td>{\"xml\": \"&lt;s_receipt&gt;&lt;s_total&gt;&lt;/s_total&gt;&lt;s_tips...</td>\n",
       "    </tr>\n",
       "    <tr>\n",
       "      <th>426</th>\n",
       "      <td>1</td>\n",
       "      <td>{\"xml\": \"&lt;s_receipt&gt;&lt;s_total&gt;$89.09 $89.09&lt;/s_...</td>\n",
       "    </tr>\n",
       "    <tr>\n",
       "      <th>427</th>\n",
       "      <td>10</td>\n",
       "      <td>{\"xml\": \"&lt;s_receipt&gt;&lt;s_total&gt;Total:82.20&lt;/s_to...</td>\n",
       "    </tr>\n",
       "    <tr>\n",
       "      <th>428</th>\n",
       "      <td>100</td>\n",
       "      <td>{\"xml\": \"&lt;s_receipt&gt;&lt;s_total&gt;131.08 131.08&lt;/s_...</td>\n",
       "    </tr>\n",
       "    <tr>\n",
       "      <th>429</th>\n",
       "      <td>1000</td>\n",
       "      <td>{\"xml\": \"&lt;s_receipt&gt;&lt;s_total&gt;48.65 48.65EUR&lt;/s...</td>\n",
       "    </tr>\n",
       "    <tr>\n",
       "      <th>...</th>\n",
       "      <td>...</td>\n",
       "      <td>...</td>\n",
       "    </tr>\n",
       "    <tr>\n",
       "      <th>2038</th>\n",
       "      <td>995</td>\n",
       "      <td>{\"xml\": \"&lt;s_receipt&gt;&lt;s_total&gt;\\u00a34.18&lt;/s_tot...</td>\n",
       "    </tr>\n",
       "    <tr>\n",
       "      <th>2039</th>\n",
       "      <td>996</td>\n",
       "      <td>{\"xml\": \"&lt;s_receipt&gt;&lt;s_total&gt;39.13&lt;/s_total&gt;&lt;s...</td>\n",
       "    </tr>\n",
       "    <tr>\n",
       "      <th>2040</th>\n",
       "      <td>997</td>\n",
       "      <td>{\"xml\": \"&lt;s_receipt&gt;&lt;s_total&gt;26.91&lt;/s_total&gt;&lt;s...</td>\n",
       "    </tr>\n",
       "    <tr>\n",
       "      <th>2041</th>\n",
       "      <td>998</td>\n",
       "      <td>{\"xml\": \"&lt;s_receipt&gt;&lt;s_total&gt;$10.23&lt;/s_total&gt;&lt;...</td>\n",
       "    </tr>\n",
       "    <tr>\n",
       "      <th>2042</th>\n",
       "      <td>999</td>\n",
       "      <td>{\"xml\": \"&lt;s_receipt&gt;&lt;s_total&gt;54.50 54.50&lt;/s_to...</td>\n",
       "    </tr>\n",
       "  </tbody>\n",
       "</table>\n",
       "<p>1618 rows × 2 columns</p>\n",
       "</div>"
      ],
      "text/plain": [
       "        id                                        parsed_data\n",
       "425      0  {\"xml\": \"<s_receipt><s_total></s_total><s_tips...\n",
       "426      1  {\"xml\": \"<s_receipt><s_total>$89.09 $89.09</s_...\n",
       "427     10  {\"xml\": \"<s_receipt><s_total>Total:82.20</s_to...\n",
       "428    100  {\"xml\": \"<s_receipt><s_total>131.08 131.08</s_...\n",
       "429   1000  {\"xml\": \"<s_receipt><s_total>48.65 48.65EUR</s...\n",
       "...    ...                                                ...\n",
       "2038   995  {\"xml\": \"<s_receipt><s_total>\\u00a34.18</s_tot...\n",
       "2039   996  {\"xml\": \"<s_receipt><s_total>39.13</s_total><s...\n",
       "2040   997  {\"xml\": \"<s_receipt><s_total>26.91</s_total><s...\n",
       "2041   998  {\"xml\": \"<s_receipt><s_total>$10.23</s_total><...\n",
       "2042   999  {\"xml\": \"<s_receipt><s_total>54.50 54.50</s_to...\n",
       "\n",
       "[1618 rows x 2 columns]"
      ]
     },
     "execution_count": 47,
     "metadata": {},
     "output_type": "execute_result"
    }
   ],
   "source": [
    "train_data[train_data['parsed_data'].str.startswith('{\"xml\": \"<', na='False')]"
   ]
  },
  {
   "cell_type": "code",
   "execution_count": null,
   "id": "462e2496-cba4-49be-8faf-966134860611",
   "metadata": {},
   "outputs": [],
   "source": []
  },
  {
   "cell_type": "code",
   "execution_count": null,
   "id": "76480535-0c5e-40f9-b350-14b6e4eac1fb",
   "metadata": {},
   "outputs": [],
   "source": []
  },
  {
   "cell_type": "code",
   "execution_count": null,
   "id": "333067b8-365d-42e9-bd06-2db10af1b8ae",
   "metadata": {},
   "outputs": [],
   "source": []
  },
  {
   "cell_type": "code",
   "execution_count": null,
   "id": "291bda6d-b981-41bb-b67e-9e0be27e6da7",
   "metadata": {},
   "outputs": [],
   "source": []
  },
  {
   "cell_type": "code",
   "execution_count": 61,
   "id": "d78de051-c2d2-46aa-af3e-b778b8879ad6",
   "metadata": {},
   "outputs": [
    {
     "data": {
      "text/plain": [
       "{'store_name': 'PORTUGALWINEBAR&GRILL',\n",
       " 'store_addr': 'PalmCoast,FL32137 15PalmHarborVillageWay#A',\n",
       " 'telephone': '(386)447-3872',\n",
       " 'date': '11/27/2016 11/27/2016',\n",
       " 'time': '16:02:36',\n",
       " 'subtotal': '57.30',\n",
       " 'tax': '4.03',\n",
       " 'total': '61.33',\n",
       " 'ignore': '',\n",
       " 'tips': '$8.59 $10.31 $11.46',\n",
       " 'line_items': [{'item_key': '',\n",
       "   'item_name': 'EXPRESSO',\n",
       "   'item_value': '@1.50',\n",
       "   'item_quantity': '1'},\n",
       "  {'item_key': '',\n",
       "   'item_name': 'FLAN',\n",
       "   'item_value': '@5.00',\n",
       "   'item_quantity': '1'},\n",
       "  {'item_key': '',\n",
       "   'item_name': 'SERRADURA',\n",
       "   'item_value': '@4.95',\n",
       "   'item_quantity': '1'},\n",
       "  {'item_key': '',\n",
       "   'item_name': 'CODFISH(BRAS)STYLE',\n",
       "   'item_value': '@14.95',\n",
       "   'item_quantity': '1'},\n",
       "  {'item_key': '',\n",
       "   'item_name': 'CALAMARI(ARROZ)RICESTE',\n",
       "   'item_value': '@15.95',\n",
       "   'item_quantity': '1'},\n",
       "  {'item_key': '',\n",
       "   'item_name': 'GRILLCHICKENBREAST',\n",
       "   'item_value': '@14.95',\n",
       "   'item_quantity': '1'}]}"
      ]
     },
     "execution_count": 61,
     "metadata": {},
     "output_type": "execute_result"
    }
   ],
   "source": [
    "get_dict_from(train_data.iloc[1404].iloc[1])"
   ]
  },
  {
   "cell_type": "code",
   "execution_count": 62,
   "id": "6dd6b66b-f27c-443f-9dec-cb2e976fb5ec",
   "metadata": {},
   "outputs": [
    {
     "data": {
      "text/plain": [
       "{'header': {'invoice_no': '66430808',\n",
       "  'invoice_date': '06/18/2020',\n",
       "  'seller': 'Rowe-Lee 0226 Meghan Ranch North Codyborough, NM 91217',\n",
       "  'client': 'Acosta, Price and West 8075 White Stream South Shawnburgh, NC 04517',\n",
       "  'seller_tax_id': '952-73-6413',\n",
       "  'client_tax_id': '951-94-4314',\n",
       "  'iban': 'GB45FFLW23217428528260'},\n",
       " 'items': [{'item_desc': 'Diamond Cut Crystal Whisky Glass Coketail Glasses Wine Glass 310ml Set of 6',\n",
       "   'item_qty': '5.00',\n",
       "   'item_net_price': '26.00',\n",
       "   'item_net_worth': '130.00',\n",
       "   'item_vat': '10%',\n",
       "   'item_gross_worth': '143.00'},\n",
       "  {'item_desc': 'Hicoup Waiters Corkscrew Wine Bottle Opener Professional Stainless Steel Black',\n",
       "   'item_qty': '1.00',\n",
       "   'item_net_price': '16.97',\n",
       "   'item_net_worth': '16.97',\n",
       "   'item_vat': '10%',\n",
       "   'item_gross_worth': '18.67'},\n",
       "  {'item_desc': 'EU Blichmann Riptide Brewing Pump Hombrew Beer Wine Food Grade',\n",
       "   'item_qty': '2.00',\n",
       "   'item_net_price': '200.00',\n",
       "   'item_net_worth': '400.00',\n",
       "   'item_vat': '10%',\n",
       "   'item_gross_worth': '440.00'},\n",
       "  {'item_desc': '6) Vintage Leaf Etched Straight Sided Wine Glasses. Set of 6 Unknown Maker',\n",
       "   'item_qty': '1.00',\n",
       "   'item_net_price': '65.00',\n",
       "   'item_net_worth': '65.00',\n",
       "   'item_vat': '10%',\n",
       "   'item_gross_worth': '71.50'},\n",
       "  {'item_desc': 'Wine Glass Holder Shelf Japanese Style Bar Iron Under Cabinet Stemware Rack',\n",
       "   'item_qty': '4.00',\n",
       "   'item_net_price': '15.19',\n",
       "   'item_net_worth': '60.76',\n",
       "   'item_vat': '10%',\n",
       "   'item_gross_worth': '66.84'},\n",
       "  {'item_desc': 'BLACK Butterfly Winged Corkscrew WINE BOTTLE OPENER Swing-a-Way',\n",
       "   'item_qty': '3.00',\n",
       "   'item_net_price': '8.95',\n",
       "   'item_net_worth': '26.85',\n",
       "   'item_vat': '10%',\n",
       "   'item_gross_worth': '29.54'}],\n",
       " 'summary': {'total_net_worth': '$699.58',\n",
       "  'total_vat': '$69.96',\n",
       "  'total_gross_worth': '$ 769.54'}}"
      ]
     },
     "execution_count": 62,
     "metadata": {},
     "output_type": "execute_result"
    }
   ],
   "source": [
    "get_dict_from(train_data.iloc[361].iloc[1])"
   ]
  },
  {
   "cell_type": "code",
   "execution_count": 42,
   "id": "7171750e-fcb5-47c3-9842-02481b6b144f",
   "metadata": {},
   "outputs": [
    {
     "data": {
      "text/html": [
       "<div>\n",
       "<style scoped>\n",
       "    .dataframe tbody tr th:only-of-type {\n",
       "        vertical-align: middle;\n",
       "    }\n",
       "\n",
       "    .dataframe tbody tr th {\n",
       "        vertical-align: top;\n",
       "    }\n",
       "\n",
       "    .dataframe thead th {\n",
       "        text-align: right;\n",
       "    }\n",
       "</style>\n",
       "<table border=\"1\" class=\"dataframe\">\n",
       "  <thead>\n",
       "    <tr style=\"text-align: right;\">\n",
       "      <th></th>\n",
       "      <th>id</th>\n",
       "      <th>parsed_data</th>\n",
       "    </tr>\n",
       "  </thead>\n",
       "  <tbody>\n",
       "    <tr>\n",
       "      <th>1113</th>\n",
       "      <td>1617</td>\n",
       "      <td>{\"xml\": \"&lt;s_receipt&gt;&lt;s_total&gt;$58.73&lt;/s_total&gt;&lt;...</td>\n",
       "    </tr>\n",
       "  </tbody>\n",
       "</table>\n",
       "</div>"
      ],
      "text/plain": [
       "        id                                        parsed_data\n",
       "1113  1617  {\"xml\": \"<s_receipt><s_total>$58.73</s_total><..."
      ]
     },
     "execution_count": 42,
     "metadata": {},
     "output_type": "execute_result"
    }
   ],
   "source": [
    "train_data[train_data['id'] == 1617]\n"
   ]
  },
  {
   "cell_type": "code",
   "execution_count": 9,
   "id": "b0b7b0c8-8ece-40e5-b6ce-27f2b732f4ad",
   "metadata": {},
   "outputs": [
    {
     "data": {
      "text/plain": [
       "2042"
      ]
     },
     "execution_count": 9,
     "metadata": {},
     "output_type": "execute_result"
    }
   ],
   "source": [
    "1617+425"
   ]
  },
  {
   "cell_type": "code",
   "execution_count": 27,
   "id": "1facf1db-24f3-4717-a449-aff32e4a14b9",
   "metadata": {},
   "outputs": [
    {
     "ename": "TypeError",
     "evalue": "unhashable type: 'Series'",
     "output_type": "error",
     "traceback": [
      "\u001b[1;31m---------------------------------------------------------------------------\u001b[0m",
      "\u001b[1;31mTypeError\u001b[0m                                 Traceback (most recent call last)",
      "Cell \u001b[1;32mIn[27], line 2\u001b[0m\n\u001b[0;32m      1\u001b[0m \u001b[38;5;28;01mfor\u001b[39;00m i \u001b[38;5;129;01min\u001b[39;00m \u001b[38;5;28mrange\u001b[39m(\u001b[38;5;241m100\u001b[39m):\n\u001b[1;32m----> 2\u001b[0m     \u001b[38;5;28mprint\u001b[39m(\u001b[38;5;28mlen\u001b[39m(train_data[\u001b[43mtrain_data\u001b[49m\u001b[43m[\u001b[49m\u001b[38;5;124;43m'\u001b[39;49m\u001b[38;5;124;43mid\u001b[39;49m\u001b[38;5;124;43m'\u001b[39;49m\u001b[43m]\u001b[49m\u001b[43m \u001b[49m\u001b[38;5;129;43;01mnot\u001b[39;49;00m\u001b[43m \u001b[49m\u001b[38;5;129;43;01min\u001b[39;49;00m\u001b[43m \u001b[49m\u001b[43m{\u001b[49m\u001b[38;5;28;43mstr\u001b[39;49m\u001b[43m(\u001b[49m\u001b[43mi\u001b[49m\u001b[43m)\u001b[49m\u001b[43m \u001b[49m\u001b[38;5;28;43;01mfor\u001b[39;49;00m\u001b[43m \u001b[49m\u001b[43mi\u001b[49m\u001b[43m \u001b[49m\u001b[38;5;129;43;01min\u001b[39;49;00m\u001b[43m \u001b[49m\u001b[38;5;28;43mrange\u001b[39;49m\u001b[43m(\u001b[49m\u001b[38;5;241;43m100\u001b[39;49m\u001b[43m)\u001b[49m\u001b[43m}\u001b[49m]))\n",
      "\u001b[1;31mTypeError\u001b[0m: unhashable type: 'Series'"
     ]
    }
   ],
   "source": [
    "for i in range(100):\n",
    "    print(len())"
   ]
  },
  {
   "cell_type": "code",
   "execution_count": 7,
   "id": "029892fb-4d31-49b1-8b67-877c48a1e257",
   "metadata": {},
   "outputs": [
    {
     "data": {
      "text/plain": [
       "1618"
      ]
     },
     "execution_count": 7,
     "metadata": {},
     "output_type": "execute_result"
    }
   ],
   "source": [
    "train_data['id'].nunique()"
   ]
  },
  {
   "cell_type": "code",
   "execution_count": 35,
   "id": "efdfedca-3bc7-4e45-bba7-2b1ae18ebb83",
   "metadata": {},
   "outputs": [],
   "source": []
  },
  {
   "cell_type": "code",
   "execution_count": null,
   "id": "d9329b6e-57bd-4ab9-8c98-8f70efcd673a",
   "metadata": {},
   "outputs": [],
   "source": []
  },
  {
   "cell_type": "code",
   "execution_count": null,
   "id": "e4ab65f6-593a-4614-94bf-4f6b4cc4290e",
   "metadata": {},
   "outputs": [],
   "source": []
  },
  {
   "cell_type": "raw",
   "id": "ddfeada3-8ad0-46f8-9a05-752570fe510b",
   "metadata": {
    "collapsed": true,
    "jupyter": {
     "outputs_hidden": true
    },
    "scrolled": true
   },
   "source": [
    "process_and_save_records(train_data)"
   ]
  }
 ],
 "metadata": {
  "kernelspec": {
   "display_name": "Python 3 (ipykernel)",
   "language": "python",
   "name": "python3"
  },
  "language_info": {
   "codemirror_mode": {
    "name": "ipython",
    "version": 3
   },
   "file_extension": ".py",
   "mimetype": "text/x-python",
   "name": "python",
   "nbconvert_exporter": "python",
   "pygments_lexer": "ipython3",
   "version": "3.12.3"
  }
 },
 "nbformat": 4,
 "nbformat_minor": 5
}
